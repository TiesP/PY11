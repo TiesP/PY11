{
 "cells": [
  {
   "cell_type": "markdown",
   "metadata": {},
   "source": [
    "# Домашнее задание"
   ]
  },
  {
   "cell_type": "markdown",
   "metadata": {},
   "source": [
    "Решение выполнения задач необходимо предоставить в виде ссылки на файл формата Jupyter (ipynb) в GitHub.\n",
    "\n",
    "В файле должны быть сохранены результаты запуска на тестовых данных.\n",
    "\n",
    "Дано: данные о популярности имен для новорожденных, скачивается по ссылке. \n",
    "https://www.ssa.gov/oact/babynames/names.zip\n",
    "\n",
    "Добавлять исходные данные в репозиторий с выполненным заданием необязательно, но в блокноте необходимо выделить путь к файлам в отдельную переменную, которую легко поменять."
   ]
  },
  {
   "cell_type": "markdown",
   "metadata": {},
   "source": [
    "### Задача №1"
   ]
  },
  {
   "cell_type": "markdown",
   "metadata": {},
   "source": [
    "С использованием Pandas написать функцию, которая загружает указанные года и выводит ТОП-3 популярных имен. Например:\n",
    "\n",
    "      \n",
    "        count_top3([1880]) == ['John', 'William', 'Mary']\n",
    "        count_top3([1900, 1950, 2000]) == ['James', 'John', 'Robert']\n",
    "      \n",
    "    "
   ]
  },
  {
   "cell_type": "code",
   "execution_count": 5,
   "metadata": {},
   "outputs": [],
   "source": [
    "import pandas as pd\n",
    "\n",
    "DATA_PATH = 'D:/proj/python3/py_11/PY11/hw20/'\n",
    "\n",
    "\n",
    "def get_frame_from_file(year):\n",
    "    file_name = DATA_PATH + 'yob' + str(year) + '.txt'\n",
    "    return pd.read_csv(file_name,\n",
    "                       names=['Name', 'Gender', 'Count'])\n",
    "\n",
    "\n",
    "def get_frames(years):\n",
    "    frames = []\n",
    "    for year in years:\n",
    "        frames.append(get_frame_from_file(year))\n",
    "    return pd.concat(frames)\n",
    "\n",
    "\n",
    "def count_top3(years):\n",
    "    frames = get_frames(years)\n",
    "    sort = frames.sort_values(by='Count', ascending=False)\n",
    "    top_names = sort.head(3).Name\n",
    "    list_top_names = []\n",
    "    for name in top_names:\n",
    "        list_top_names.append(name)\n",
    "    return list_top_names"
   ]
  },
  {
   "cell_type": "code",
   "execution_count": 6,
   "metadata": {},
   "outputs": [
    {
     "name": "stdout",
     "output_type": "stream",
     "text": [
      "['John', 'William', 'Mary']\n"
     ]
    }
   ],
   "source": [
    "print(count_top3([1880]))"
   ]
  },
  {
   "cell_type": "code",
   "execution_count": 7,
   "metadata": {},
   "outputs": [
    {
     "name": "stdout",
     "output_type": "stream",
     "text": [
      "['James', 'Robert', 'Linda']\n"
     ]
    }
   ],
   "source": [
    "print(count_top3([1900, 1950, 2000]))"
   ]
  },
  {
   "cell_type": "markdown",
   "metadata": {},
   "source": [
    "### Задача №2"
   ]
  },
  {
   "cell_type": "markdown",
   "metadata": {},
   "source": [
    "С использованием Pandas написать функцию, которая возвращает динамику изменения количества имен за указанные года в разрезе полов. Например:\n",
    "\n",
    "      \n",
    "        count_dynamics([1900, 1950, 2000]) == {\n",
    "          'F': [299810, 1713259, 1814922],\n",
    "          'M': [150486, 1790871, 1962744]\n",
    "        }\n",
    "      \n",
    "    "
   ]
  },
  {
   "cell_type": "code",
   "execution_count": 8,
   "metadata": {},
   "outputs": [],
   "source": [
    "def count_dynamics(years):\n",
    "    count_names = {'F': [], 'M': []}\n",
    "    for year in years:\n",
    "        frame = get_frame_from_file(year)\n",
    "        count_names['F'].append(frame[frame.Gender == 'F'].Count.sum())\n",
    "        count_names['M'].append(frame[frame.Gender == 'M'].Count.sum())\n",
    "    return count_names\n"
   ]
  },
  {
   "cell_type": "code",
   "execution_count": 9,
   "metadata": {},
   "outputs": [
    {
     "name": "stdout",
     "output_type": "stream",
     "text": [
      "{'F': [299810, 1713259, 1814922], 'M': [150486, 1790871, 1962744]}\n"
     ]
    }
   ],
   "source": [
    "print(count_dynamics([1900, 1950, 2000]))"
   ]
  },
  {
   "cell_type": "code",
   "execution_count": null,
   "metadata": {},
   "outputs": [],
   "source": []
  }
 ],
 "metadata": {
  "kernelspec": {
   "display_name": "Python 3",
   "language": "python",
   "name": "python3"
  },
  "language_info": {
   "codemirror_mode": {
    "name": "ipython",
    "version": 3
   },
   "file_extension": ".py",
   "mimetype": "text/x-python",
   "name": "python",
   "nbconvert_exporter": "python",
   "pygments_lexer": "ipython3",
   "version": "3.5.2"
  }
 },
 "nbformat": 4,
 "nbformat_minor": 2
}
